{
 "cells": [
  {
   "cell_type": "code",
   "execution_count": 1,
   "id": "42ec6fc6-6b50-4e18-a5f3-01478c07695e",
   "metadata": {},
   "outputs": [],
   "source": [
    "#Q1. What is Abstraction in OOps? Explain with an example."
   ]
  },
  {
   "cell_type": "code",
   "execution_count": 2,
   "id": "77b5d83c-b4a7-426f-bb1d-db5911b88dcb",
   "metadata": {},
   "outputs": [],
   "source": [
    "#In simple terms, abstraction “displays” only the relevant attributes of objects and “hides” the unnecessary \n",
    "#details. For example, when we are driving a car, we are only concerned about driving the car like start/stop the \n",
    "#car, accelerate/ break, etc."
   ]
  },
  {
   "cell_type": "code",
   "execution_count": 3,
   "id": "642eb925-8d37-4344-abf0-1b40014c1135",
   "metadata": {},
   "outputs": [],
   "source": [
    "#Q2. Differentiate between Abstraction and Encapsulation. Explain with an example."
   ]
  },
  {
   "cell_type": "code",
   "execution_count": 4,
   "id": "3d7a839b-375e-48be-8809-4e4a2f277483",
   "metadata": {},
   "outputs": [],
   "source": [
    "#Abstraction is a way of representing some specific data. Encapsulation is a way of hiding the complexity of \n",
    "#something and exposing only the parts you wish to expose. For example, if you have a class that has one or more\n",
    "#private fields that you use to store the data, then you are in encapsulation."
   ]
  },
  {
   "cell_type": "code",
   "execution_count": 5,
   "id": "d9bcdb03-3b42-40cd-97ba-f7ad0c471f72",
   "metadata": {},
   "outputs": [],
   "source": [
    "#Q3. What is abc module in python? Why is it used?"
   ]
  },
  {
   "cell_type": "code",
   "execution_count": 6,
   "id": "c1558470-4cee-471b-871c-5c4d73229d78",
   "metadata": {},
   "outputs": [],
   "source": [
    "#The ABC module contains a digital data collection tool for tablets and mobile phones. A unique, fully personalized\n",
    "#user interface with large buttons for quick data entry with the ability to add notes."
   ]
  },
  {
   "cell_type": "code",
   "execution_count": 7,
   "id": "69e779bc-937b-4466-b12b-8978dd7cdc0a",
   "metadata": {},
   "outputs": [],
   "source": [
    "#Q4. How can we achieve data abstraction?"
   ]
  },
  {
   "cell_type": "code",
   "execution_count": 9,
   "id": "22139aa4-0178-4d2d-be3b-fb5adc5e3f1d",
   "metadata": {},
   "outputs": [],
   "source": [
    "#In Python, abstraction can be achieved by having/using abstract classes and methods in our programs. \n",
    "#Understanding Abstract Methods and Classes: An abstract method is a method that is declared, but does not contain\n",
    "#implementation."
   ]
  },
  {
   "cell_type": "code",
   "execution_count": 10,
   "id": "ead86b0e-b57b-4227-9c6a-25e784b3ef24",
   "metadata": {},
   "outputs": [],
   "source": [
    "#Q5. Can we create an instance of an abstract class? Explain your answer."
   ]
  },
  {
   "cell_type": "code",
   "execution_count": 11,
   "id": "ab297f09-84e4-4f33-83c1-5a77928d6c50",
   "metadata": {},
   "outputs": [],
   "source": [
    "#Abstract classes cannot be instantiated, but they can be subclassed. When an abstract class is subclassed, \n",
    "#the subclass usually provides implementations for all of the abstract methods in its parent class. However, if it\n",
    "#does not, then the subclass must also be declared abstract ."
   ]
  },
  {
   "cell_type": "code",
   "execution_count": null,
   "id": "85cb9dae-14a5-440d-9276-64f0ec8a8488",
   "metadata": {},
   "outputs": [],
   "source": []
  }
 ],
 "metadata": {
  "kernelspec": {
   "display_name": "Python 3 (ipykernel)",
   "language": "python",
   "name": "python3"
  },
  "language_info": {
   "codemirror_mode": {
    "name": "ipython",
    "version": 3
   },
   "file_extension": ".py",
   "mimetype": "text/x-python",
   "name": "python",
   "nbconvert_exporter": "python",
   "pygments_lexer": "ipython3",
   "version": "3.10.8"
  }
 },
 "nbformat": 4,
 "nbformat_minor": 5
}
